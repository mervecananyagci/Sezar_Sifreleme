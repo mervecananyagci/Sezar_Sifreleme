{
  "nbformat": 4,
  "nbformat_minor": 0,
  "metadata": {
    "colab": {
      "provenance": [],
      "authorship_tag": "ABX9TyMcCiIDSZ0+ITrAnI7LXGJT",
      "include_colab_link": true
    },
    "kernelspec": {
      "name": "python3",
      "display_name": "Python 3"
    },
    "language_info": {
      "name": "python"
    }
  },
  "cells": [
    {
      "cell_type": "markdown",
      "metadata": {
        "id": "view-in-github",
        "colab_type": "text"
      },
      "source": [
        "<a href=\"https://colab.research.google.com/github/mervecananyagci/Sezar_Sifreleme/blob/main/sezar.ipynb\" target=\"_parent\"><img src=\"https://colab.research.google.com/assets/colab-badge.svg\" alt=\"Open In Colab\"/></a>"
      ]
    },
    {
      "cell_type": "code",
      "execution_count": null,
      "metadata": {
        "colab": {
          "base_uri": "https://localhost:8080/"
        },
        "id": "BSoaYD_tTlqp",
        "outputId": "2caeedeb-7675-4b78-b557-e748b65e8ace"
      },
      "outputs": [
        {
          "output_type": "stream",
          "name": "stdout",
          "text": [
            "kaydırma sayı: 6\n",
            "Mesajınız: Yazılım ogreniyorum\n",
            "Şifrelenmiş mesaj: Ygfırıs umxktoeuxas\n"
          ]
        }
      ],
      "source": [
        "def ceaser(mesaj, anahtar):\n",
        "    krip_msj = ''\n",
        "\n",
        "    harf = [\n",
        "        'a', 'b', 'c', 'd', 'e', 'f', 'g', 'h', 'i', 'j', 'k', 'l', 'm',\n",
        "        'n', 'o', 'p', 'q', 'r', 's', 't', 'u', 'v', 'w', 'x', 'y', 'z'\n",
        "    ]\n",
        "    for i in mesaj:\n",
        "\n",
        "        if i not in harf:\n",
        "            krip_msj += i\n",
        "        else:\n",
        "            krip_msj += harf[\n",
        "                (harf.index(i)+shift) % len(harf)]\n",
        "\n",
        "    print(\"Şifrelenmiş mesaj:\", krip_msj)\n",
        "\n",
        "\n",
        "shift = int(input('kaydırma sayı: '))\n",
        "\n",
        "text = input(\"Mesajınız: \")\n",
        "ceaser(text, shift)"
      ]
    }
  ]
}